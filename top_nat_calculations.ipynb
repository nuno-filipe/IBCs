{
 "cells": [
  {
   "cell_type": "code",
   "execution_count": 1,
   "metadata": {},
   "outputs": [
    {
     "name": "stderr",
     "output_type": "stream",
     "text": [
      "/srv/conda/lib/python3.6/importlib/_bootstrap.py:219: RuntimeWarning: numpy.dtype size changed, may indicate binary incompatibility. Expected 96, got 88\n",
      "  return f(*args, **kwds)\n",
      "/srv/conda/lib/python3.6/importlib/_bootstrap.py:219: RuntimeWarning: numpy.dtype size changed, may indicate binary incompatibility. Expected 96, got 88\n",
      "  return f(*args, **kwds)\n"
     ]
    }
   ],
   "source": [
    "import pandas as pd\n",
    "import matplotlib.pyplot as plt\n",
    "import numpy as np\n",
    "%matplotlib inline"
   ]
  },
  {
   "cell_type": "code",
   "execution_count": 64,
   "metadata": {},
   "outputs": [
    {
     "data": {
      "text/plain": [
       "{'divide': 'warn', 'over': 'warn', 'under': 'ignore', 'invalid': 'warn'}"
      ]
     },
     "execution_count": 64,
     "metadata": {},
     "output_type": "execute_result"
    }
   ],
   "source": [
    "pd.options.mode.chained_assignment = None  # default='warn'\n",
    "np.seterr(divide='ignore', invalid='ignore')"
   ]
  },
  {
   "cell_type": "code",
   "execution_count": 2,
   "metadata": {},
   "outputs": [],
   "source": [
    "db = pd.read_excel('Detections_of_IBC_2018_07_06.xlsx')"
   ]
  },
  {
   "cell_type": "code",
   "execution_count": 4,
   "metadata": {},
   "outputs": [],
   "source": [
    "def define_db(route):\n",
    "    db_filtered = db[(db.Route == route)]\n",
    "    db_filtered.drop(['BorderLocation', 'Route'], axis=1, inplace=True)\n",
    "    db_filtered.set_index('NationalityLong', inplace=True)\n",
    "\n",
    "    cluster_now = db_filtered.iloc[:,-2:].sum(axis=1).sort_values(ascending=False)\n",
    "    cluster_before = db_filtered.iloc[:,-4:-2].sum(axis=1).sort_values(ascending=False)\n",
    "\n",
    "    top10_now = cluster_now[:10]\n",
    "    top10_before = cluster_before[:10]\n",
    "\n",
    "    return top10_now, top10_before"
   ]
  },
  {
   "cell_type": "code",
   "execution_count": 109,
   "metadata": {},
   "outputs": [],
   "source": [
    "def calculate_results(top10_now, top10_before):\n",
    "    nationalities = []\n",
    "    nationalities_dropped = []\n",
    "    top_num = 0\n",
    "    \n",
    "    for nat in top10_now.index:\n",
    "        if nat in top10_before.index:\n",
    "            nationality = [nat for nat in top10_before.index if nat == top10_now.index[top_num]]\n",
    "            result = ((top10_now[nat]-top10_before[nat])/top10_before[nat])*100.0\n",
    "            nationalities.append([nat, round(result,1)])\n",
    "        else:\n",
    "            nationalities.append([nat, 'NEW'])\n",
    "            top_num += 1\n",
    "            \n",
    "    for nat in top10_before.index:\n",
    "        if nat not in top10_now.index:\n",
    "            nationalities_dropped.append(nat)\n",
    "    \n",
    "    return nationalities, nationalities_dropped"
   ]
  },
  {
   "cell_type": "code",
   "execution_count": 110,
   "metadata": {},
   "outputs": [],
   "source": [
    "def show_result(result, result_dropped):\n",
    "    for item in result:\n",
    "        if isinstance(item[1], float) and not np.isnan(item[1]):\n",
    "            print(item[0] + ', ' + str(item[1]) + '%')\n",
    "        else:\n",
    "            print(item[0] + ', ' + str(item[1]))\n",
    "    for item in result_dropped:\n",
    "        print('{} dropped from top 10.'.format(item))"
   ]
  },
  {
   "cell_type": "code",
   "execution_count": 111,
   "metadata": {},
   "outputs": [],
   "source": [
    "def main(route):\n",
    "    print('\\nResults for {}.\\n'.format(route))\n",
    "    now, before = define_db(route)\n",
    "    final, final_dropped = calculate_results(now, before)\n",
    "    show_result(final, final_dropped)"
   ]
  },
  {
   "cell_type": "code",
   "execution_count": 112,
   "metadata": {},
   "outputs": [
    {
     "data": {
      "text/plain": [
       "array(['Black Sea', 'Central Mediterranean',\n",
       "       'Circular Route from Albania to Greece', 'Eastern Land Borders',\n",
       "       'Eastern Mediterranean', 'Other', 'Western African',\n",
       "       'Western Balkans', 'Western Mediterranean'], dtype=object)"
      ]
     },
     "execution_count": 112,
     "metadata": {},
     "output_type": "execute_result"
    }
   ],
   "source": [
    "routes = np.unique(db.Route.values)\n",
    "routes"
   ]
  },
  {
   "cell_type": "code",
   "execution_count": 113,
   "metadata": {},
   "outputs": [
    {
     "name": "stdout",
     "output_type": "stream",
     "text": [
      "\n",
      "Results for Black Sea.\n",
      "\n",
      "Morocco, nan\n",
      "Other and stateless, nan\n",
      "Turkey, nan\n",
      "Algeria, nan\n",
      "Somalia, nan\n",
      "Iran, nan\n",
      "Belarus, nan\n",
      "Afghanistan, nan\n",
      "Syria, nan\n",
      "Pakistan, nan\n",
      "\n",
      "Results for Central Mediterranean.\n",
      "\n",
      "Tunisia, 172.4%\n",
      "Sudan, 689.6%\n",
      "Eritrea, 82.7%\n",
      "Nigeria, 244.4%\n",
      "Côte d'Ivoire, 896.7%\n",
      "Mali, 422.0%\n",
      "Guinea, 252.0%\n",
      "Algeria, NEW\n",
      "Senegal, NEW\n",
      "Pakistan, NEW\n",
      "Somalia dropped from top 10.\n",
      "Niger dropped from top 10.\n",
      "Iraq dropped from top 10.\n",
      "\n",
      "Results for Circular Route from Albania to Greece.\n",
      "\n",
      "Albania, 54.1%\n",
      "Pakistan, NEW\n",
      "Kosovo*, 133.3%\n",
      "China, NEW\n",
      "Iran, 400.0%\n",
      "Serbia, NEW\n",
      "Afghanistan, -40.0%\n",
      "Brazil, NEW\n",
      "Turkey, NEW\n",
      "Morocco, NEW\n",
      "Iraq dropped from top 10.\n",
      "Libya dropped from top 10.\n",
      "Algeria dropped from top 10.\n",
      "Syria dropped from top 10.\n",
      "Palestine dropped from top 10.\n",
      "India dropped from top 10.\n",
      "\n",
      "Results for Eastern Land Borders.\n",
      "\n",
      "Vietnam, 1966.7%\n",
      "Russia, 162.5%\n",
      "Afghanistan, NEW\n",
      "Ukraine, 150.0%\n",
      "Turkey, 11.1%\n",
      "Iraq, -11.1%\n",
      "Azerbaijan, NEW\n",
      "Belarus, NEW\n",
      "Armenia, NEW\n",
      "Kyrgyzstan, 0.0%\n",
      "Cuba dropped from top 10.\n",
      "Morocco dropped from top 10.\n",
      "Kazakhstan dropped from top 10.\n",
      "Libya dropped from top 10.\n",
      "\n",
      "Results for Eastern Mediterranean.\n",
      "\n",
      "Syria, Syria     88.5\n",
      "Syria    209.2\n",
      "dtype: float64\n",
      "Syria, Syria     88.5\n",
      "Syria    209.2\n",
      "dtype: float64\n",
      "Turkey, 129.4%\n",
      "Iraq, Iraq     25.5\n",
      "Iraq    194.2\n",
      "dtype: float64\n",
      "Iraq, Iraq     25.5\n",
      "Iraq    194.2\n",
      "dtype: float64\n",
      "Afghanistan, Afghanistan    54.7\n",
      "Afghanistan    54.0\n",
      "dtype: float64\n",
      "Afghanistan, Afghanistan    54.7\n",
      "Afghanistan    54.0\n",
      "dtype: float64\n",
      "Pakistan, 205.6%\n",
      "Congo (D.R.), NEW\n",
      "Palestine, 100.0%\n",
      "Cameroon dropped from top 10.\n",
      "Bangladesh dropped from top 10.\n",
      "\n",
      "Results for Other.\n",
      "\n",
      "Philippines, nan\n",
      "Pakistan, nan\n",
      "Ukraine, nan\n",
      "Nigeria, nan\n",
      "Somalia, nan\n",
      "India, nan\n",
      "Russia, nan\n",
      "Guinea, nan\n",
      "Turkey, nan\n",
      "Egypt, nan\n",
      "\n",
      "Results for Western African.\n",
      "\n",
      "Morocco, 488.9%\n",
      "Guinea, nan\n",
      "Guinea-Bissau, nan\n",
      "Zambia, NEW\n",
      "Congo, nan\n",
      "Benin, nan\n",
      "Comoros, nan\n",
      "Mauritania, nan\n",
      "Chad, nan\n",
      "Central African Republic, NEW\n",
      "Unknown dropped from top 10.\n",
      "Niger dropped from top 10.\n",
      "\n",
      "Results for Western Balkans.\n",
      "\n",
      "Pakistan, 89.1%\n",
      "Afghanistan, -8.7%\n",
      "Syria, -40.3%\n",
      "Turkey, -26.3%\n",
      "Iran, 56.0%\n",
      "Kosovo*, -67.8%\n",
      "Albania, -38.6%\n",
      "Iraq, 30.0%\n",
      "Bangladesh, 50.0%\n",
      "Serbia, NEW\n",
      "Libya dropped from top 10.\n",
      "\n",
      "Results for Western Mediterranean.\n",
      "\n",
      "Morocco, 189.1%\n",
      "Guinea, 458.4%\n",
      "Mali, 347.3%\n",
      "Unknown, 0.4%\n",
      "Côte d'Ivoire, 150.4%\n",
      "Gambia, 134.6%\n",
      "Senegal, 436.0%\n",
      "Mauritania, 277.4%\n",
      "Cameroon, 260.7%\n",
      "Algeria, -4.3%\n"
     ]
    }
   ],
   "source": [
    "for route in routes:\n",
    "    main(route)"
   ]
  }
 ],
 "metadata": {
  "kernelspec": {
   "display_name": "Python 3",
   "language": "python",
   "name": "python3"
  },
  "language_info": {
   "codemirror_mode": {
    "name": "ipython",
    "version": 3
   },
   "file_extension": ".py",
   "mimetype": "text/x-python",
   "name": "python",
   "nbconvert_exporter": "python",
   "pygments_lexer": "ipython3",
   "version": "3.6.5"
  }
 },
 "nbformat": 4,
 "nbformat_minor": 2
}
