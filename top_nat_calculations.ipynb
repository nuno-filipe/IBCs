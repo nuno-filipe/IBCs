{
 "cells": [
  {
   "cell_type": "code",
   "execution_count": 4,
   "metadata": {},
   "outputs": [],
   "source": [
    "import pandas as pd\n",
    "import matplotlib.pyplot as plt\n",
    "import numpy as np\n",
    "%matplotlib inline"
   ]
  },
  {
   "cell_type": "code",
   "execution_count": 5,
   "metadata": {},
   "outputs": [],
   "source": [
    "db = pd.read_excel('Detections_of_IBC_2018_07_06.xlsx')"
   ]
  },
  {
   "cell_type": "code",
   "execution_count": 6,
   "metadata": {},
   "outputs": [],
   "source": [
    "db_central = db[(db.Route == 'Central Mediterranean')]"
   ]
  },
  {
   "cell_type": "code",
   "execution_count": 7,
   "metadata": {},
   "outputs": [
    {
     "name": "stderr",
     "output_type": "stream",
     "text": [
      "/srv/conda/lib/python3.6/site-packages/pandas/core/frame.py:3697: SettingWithCopyWarning: \n",
      "A value is trying to be set on a copy of a slice from a DataFrame\n",
      "\n",
      "See the caveats in the documentation: http://pandas.pydata.org/pandas-docs/stable/indexing.html#indexing-view-versus-copy\n",
      "  errors=errors)\n"
     ]
    }
   ],
   "source": [
    "db_central.drop(['BorderLocation', 'Route'], axis=1, inplace=True)\n",
    "db_central.set_index('NationalityLong', inplace=True)"
   ]
  },
  {
   "cell_type": "code",
   "execution_count": 8,
   "metadata": {},
   "outputs": [],
   "source": [
    "cluster_now = db_central.iloc[:,-2:].sum(axis=1).sort_values(ascending=False)\n",
    "cluster_before = db_central.iloc[:,-4:-2].sum(axis=1).sort_values(ascending=False)"
   ]
  },
  {
   "cell_type": "code",
   "execution_count": 15,
   "metadata": {},
   "outputs": [],
   "source": [
    "top10_now = cluster_now[:10]\n",
    "top10_before = cluster_before[:10]"
   ]
  },
  {
   "cell_type": "code",
   "execution_count": 31,
   "metadata": {},
   "outputs": [
    {
     "name": "stdout",
     "output_type": "stream",
     "text": [
      "Tunisia\n",
      "Sudan\n",
      "Eritrea\n",
      "Nigeria\n",
      "Côte d'Ivoire\n",
      "Mali\n",
      "Guinea\n",
      "Algeria\n",
      "Senegal\n",
      "Pakistan\n"
     ]
    }
   ],
   "source": [
    "index = 0\n",
    "for n in top10_now.index:\n",
    "    print(n)"
   ]
  },
  {
   "cell_type": "code",
   "execution_count": 36,
   "metadata": {},
   "outputs": [
    {
     "name": "stdout",
     "output_type": "stream",
     "text": [
      "Tunisia WAS in previous cluster.\n",
      "Sudan WAS in previous cluster.\n",
      "Eritrea WAS in previous cluster.\n",
      "Nigeria WAS in previous cluster.\n",
      "Côte d'Ivoire WAS in previous cluster.\n",
      "Mali WAS in previous cluster.\n",
      "Guinea WAS in previous cluster.\n",
      "Algeria WAS NOT in previous cluster.\n",
      "Senegal WAS NOT in previous cluster.\n",
      "Pakistan WAS NOT in previous cluster.\n"
     ]
    }
   ],
   "source": [
    "top_num = 0\n",
    "for nat in top10_before.index:\n",
    "    if top10_now.index[top_num] in top10_before.index:\n",
    "        print(top10_now.index[top_num] + ' WAS in previous cluster.')\n",
    "        #percentage_chage(top10_now.index[top_num])\n",
    "    else:\n",
    "        print(top10_now.index[top_num] + ' WAS NOT in previous cluster.')\n",
    "    top_num += 1"
   ]
  }
 ],
 "metadata": {
  "kernelspec": {
   "display_name": "Python 3",
   "language": "python",
   "name": "python3"
  },
  "language_info": {
   "codemirror_mode": {
    "name": "ipython",
    "version": 3
   },
   "file_extension": ".py",
   "mimetype": "text/x-python",
   "name": "python",
   "nbconvert_exporter": "python",
   "pygments_lexer": "ipython3",
   "version": "3.6.5"
  }
 },
 "nbformat": 4,
 "nbformat_minor": 2
}
