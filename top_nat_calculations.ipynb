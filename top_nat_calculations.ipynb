{
 "cells": [
  {
   "cell_type": "code",
   "execution_count": 125,
   "metadata": {},
   "outputs": [],
   "source": [
    "import pandas as pd\n",
    "import matplotlib.pyplot as plt\n",
    "import numpy as np\n",
    "%matplotlib inline"
   ]
  },
  {
   "cell_type": "code",
   "execution_count": 126,
   "metadata": {},
   "outputs": [
    {
     "data": {
      "text/plain": [
       "{'divide': 'ignore', 'over': 'warn', 'under': 'ignore', 'invalid': 'ignore'}"
      ]
     },
     "execution_count": 126,
     "metadata": {},
     "output_type": "execute_result"
    }
   ],
   "source": [
    "pd.options.mode.chained_assignment = None  # default='warn'\n",
    "np.seterr(divide='ignore', invalid='ignore')"
   ]
  },
  {
   "cell_type": "code",
   "execution_count": 127,
   "metadata": {},
   "outputs": [],
   "source": [
    "db = pd.read_excel('Detections_of_IBC_2018_07_06.xlsx')"
   ]
  },
  {
   "cell_type": "code",
   "execution_count": 128,
   "metadata": {},
   "outputs": [],
   "source": [
    "def define_db(route):\n",
    "    db_filtered = db[(db.Route == route)]\n",
    "    db_filtered.drop(['BorderLocation', 'Route'], axis=1, inplace=True)\n",
    "    db_filtered.set_index('NationalityLong', inplace=True)\n",
    "\n",
    "    cluster_now = db_filtered.iloc[:,-2:].sum(axis=1).sort_values(ascending=False)\n",
    "    cluster_before = db_filtered.iloc[:,-4:-2].sum(axis=1).sort_values(ascending=False)\n",
    "\n",
    "    top10_now = cluster_now[:10]\n",
    "    top10_before = cluster_before[:10]\n",
    "\n",
    "    return top10_now, top10_before"
   ]
  },
  {
   "cell_type": "code",
   "execution_count": 140,
   "metadata": {},
   "outputs": [],
   "source": [
    "def calculate_results(top10_now, top10_before):\n",
    "    nationalities = []\n",
    "    nationalities_dropped = []\n",
    "    top_num = 0\n",
    "    \n",
    "    for nat in top10_now.index:\n",
    "        if nat in top10_before.index:\n",
    "            nationality = [nat for nat in top10_before.index if nat == top10_now.index[top_num]]\n",
    "            result = ((top10_now[nat]-top10_before[nat])/top10_before[nat])*100.0\n",
    "            nationalities.append([nat, round(result,1), top10_before[nat], top10_now[nat]])\n",
    "        else:\n",
    "            nationalities.append([nat, str('NEW (' + str(top10_now[nat])) + ')'])\n",
    "            top_num += 1\n",
    "            \n",
    "    for nat in top10_before.index:\n",
    "        if nat not in top10_now.index:\n",
    "            nationalities_dropped.append(nat)\n",
    "    \n",
    "    return nationalities, nationalities_dropped"
   ]
  },
  {
   "cell_type": "code",
   "execution_count": 154,
   "metadata": {},
   "outputs": [],
   "source": [
    "def show_result(result, result_dropped):\n",
    "    for item in result:\n",
    "        if isinstance(item[1], float) and not np.isnan(item[1]):\n",
    "            print(item[0] + ', '\n",
    "                  + str(item[1]) + '% '\n",
    "                  + '(' + str(item[2]) + ' -> '\n",
    "                  + str(item[3]) + ')')\n",
    "        else:\n",
    "            print(item[0] + ', ' + str(item[1]))\n",
    "    for item in result_dropped:\n",
    "        print('{} dropped from top 10.'.format(item))"
   ]
  },
  {
   "cell_type": "code",
   "execution_count": 142,
   "metadata": {},
   "outputs": [],
   "source": [
    "def main(route):\n",
    "    print('\\nResults for {}.\\n'.format(route))\n",
    "    now, before = define_db(route)\n",
    "    final, final_dropped = calculate_results(now, before)\n",
    "    show_result(final, final_dropped)"
   ]
  },
  {
   "cell_type": "code",
   "execution_count": 161,
   "metadata": {},
   "outputs": [
    {
     "data": {
      "text/plain": [
       "array(['Black Sea', 'Central Mediterranean',\n",
       "       'Circular Route from Albania to Greece', 'Eastern Land Borders',\n",
       "       'Eastern Mediterranean', 'Other', 'Western African',\n",
       "       'Western Balkans', 'Western Mediterranean'], dtype=object)"
      ]
     },
     "execution_count": 161,
     "metadata": {},
     "output_type": "execute_result"
    }
   ],
   "source": [
    "routes"
   ]
  },
  {
   "cell_type": "code",
   "execution_count": 163,
   "metadata": {},
   "outputs": [
    {
     "data": {
      "text/plain": [
       "array(['Black Sea', 'Central Mediterranean',\n",
       "       'Circular Route from Albania to Greece', 'Eastern Land Borders',\n",
       "       'Other', 'Western African', 'Western Balkans',\n",
       "       'Western Mediterranean'], dtype=object)"
      ]
     },
     "execution_count": 163,
     "metadata": {},
     "output_type": "execute_result"
    }
   ],
   "source": [
    "routes = np.unique(db.Route.values)\n",
    "routes = np.delete(routes, 4) # issue with Eastern Med (double counting due to two border types)\n",
    "routes"
   ]
  },
  {
   "cell_type": "code",
   "execution_count": 164,
   "metadata": {},
   "outputs": [
    {
     "name": "stdout",
     "output_type": "stream",
     "text": [
      "\n",
      "Results for Black Sea.\n",
      "\n",
      "Morocco, nan\n",
      "Other and stateless, nan\n",
      "Turkey, nan\n",
      "Algeria, nan\n",
      "Somalia, nan\n",
      "Iran, nan\n",
      "Belarus, nan\n",
      "Afghanistan, nan\n",
      "Syria, nan\n",
      "Pakistan, nan\n",
      "\n",
      "Results for Central Mediterranean.\n",
      "\n",
      "Tunisia, 172.4% (587 -> 1599)\n",
      "Sudan, 689.6% (106 -> 837)\n",
      "Eritrea, 82.7% (370 -> 676)\n",
      "Nigeria, 244.4% (189 -> 651)\n",
      "Côte d'Ivoire, 896.7% (60 -> 598)\n",
      "Mali, 422.0% (91 -> 475)\n",
      "Guinea, 252.0% (98 -> 345)\n",
      "Algeria, NEW (254)\n",
      "Senegal, NEW (145)\n",
      "Pakistan, NEW (145)\n",
      "Somalia dropped from top 10.\n",
      "Niger dropped from top 10.\n",
      "Iraq dropped from top 10.\n",
      "\n",
      "Results for Circular Route from Albania to Greece.\n",
      "\n",
      "Albania, 54.1% (695 -> 1071)\n",
      "Pakistan, NEW (7)\n",
      "Kosovo*, 133.3% (3 -> 7)\n",
      "China, NEW (6)\n",
      "Iran, 400.0% (1 -> 5)\n",
      "Serbia, NEW (4)\n",
      "Afghanistan, -40.0% (5 -> 3)\n",
      "Brazil, NEW (1)\n",
      "Turkey, NEW (1)\n",
      "Morocco, NEW (1)\n",
      "Iraq dropped from top 10.\n",
      "Libya dropped from top 10.\n",
      "Algeria dropped from top 10.\n",
      "Syria dropped from top 10.\n",
      "Palestine dropped from top 10.\n",
      "India dropped from top 10.\n",
      "\n",
      "Results for Eastern Land Borders.\n",
      "\n",
      "Vietnam, 1966.7% (3 -> 62)\n",
      "Russia, 162.5% (8 -> 21)\n",
      "Afghanistan, NEW (17)\n",
      "Ukraine, 150.0% (6 -> 15)\n",
      "Turkey, 11.1% (9 -> 10)\n",
      "Iraq, -11.1% (9 -> 8)\n",
      "Azerbaijan, NEW (4)\n",
      "Belarus, NEW (4)\n",
      "Armenia, NEW (2)\n",
      "Kyrgyzstan, 0.0% (2 -> 2)\n",
      "Cuba dropped from top 10.\n",
      "Morocco dropped from top 10.\n",
      "Kazakhstan dropped from top 10.\n",
      "Libya dropped from top 10.\n",
      "\n",
      "Results for Other.\n",
      "\n",
      "Philippines, nan\n",
      "Pakistan, nan\n",
      "Ukraine, nan\n",
      "Nigeria, nan\n",
      "Somalia, nan\n",
      "India, nan\n",
      "Russia, nan\n",
      "Guinea, nan\n",
      "Turkey, nan\n",
      "Egypt, nan\n",
      "\n",
      "Results for Western African.\n",
      "\n",
      "Morocco, 488.9% (9 -> 53)\n",
      "Guinea, nan\n",
      "Guinea-Bissau, nan\n",
      "Zambia, NEW (0)\n",
      "Congo, nan\n",
      "Benin, nan\n",
      "Comoros, nan\n",
      "Mauritania, nan\n",
      "Chad, nan\n",
      "Central African Republic, NEW (0)\n",
      "Unknown dropped from top 10.\n",
      "Niger dropped from top 10.\n",
      "\n",
      "Results for Western Balkans.\n",
      "\n",
      "Pakistan, 89.1% (156 -> 295)\n",
      "Afghanistan, -8.7% (219 -> 200)\n",
      "Syria, -40.3% (72 -> 43)\n",
      "Turkey, -26.3% (57 -> 42)\n",
      "Iran, 56.0% (25 -> 39)\n",
      "Kosovo*, -67.8% (87 -> 28)\n",
      "Albania, -38.6% (44 -> 27)\n",
      "Iraq, 30.0% (20 -> 26)\n",
      "Bangladesh, 50.0% (8 -> 12)\n",
      "Serbia, NEW (9)\n",
      "Libya dropped from top 10.\n",
      "\n",
      "Results for Western Mediterranean.\n",
      "\n",
      "Morocco, 189.1% (329 -> 951)\n",
      "Guinea, 458.4% (161 -> 899)\n",
      "Mali, 347.3% (186 -> 832)\n",
      "Unknown, 0.4% (761 -> 764)\n",
      "Côte d'Ivoire, 150.4% (123 -> 308)\n",
      "Gambia, 134.6% (130 -> 305)\n",
      "Senegal, 436.0% (25 -> 134)\n",
      "Mauritania, 277.4% (31 -> 117)\n",
      "Cameroon, 260.7% (28 -> 101)\n",
      "Algeria, -4.3% (69 -> 66)\n"
     ]
    }
   ],
   "source": [
    "for route in routes:\n",
    "    main(route)"
   ]
  }
 ],
 "metadata": {
  "kernelspec": {
   "display_name": "Python 3",
   "language": "python",
   "name": "python3"
  },
  "language_info": {
   "codemirror_mode": {
    "name": "ipython",
    "version": 3
   },
   "file_extension": ".py",
   "mimetype": "text/x-python",
   "name": "python",
   "nbconvert_exporter": "python",
   "pygments_lexer": "ipython3",
   "version": "3.6.5"
  }
 },
 "nbformat": 4,
 "nbformat_minor": 2
}
